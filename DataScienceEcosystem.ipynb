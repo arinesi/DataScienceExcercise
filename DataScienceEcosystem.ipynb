{
 "cells": [
  {
   "cell_type": "markdown",
   "id": "6b9cb4d2-e0be-4208-9ae2-51583870b8ac",
   "metadata": {},
   "source": [
    "# Data Science Tools and Ecosystem"
   ]
  },
  {
   "cell_type": "markdown",
   "id": "97819357-92df-4a27-a60a-31f34049b59a",
   "metadata": {},
   "source": [
    "In this notebook, Data Science Tools and Ecosystem are summarized."
   ]
  },
  {
   "cell_type": "markdown",
   "id": "eaff83e2-821a-4701-b7db-c80c27c9f9a8",
   "metadata": {},
   "source": [
    "Some of the popular languages that Data Scientist use are:\n",
    "\n",
    "    1. Python\n",
    "    2. R\n",
    "    3. GitHub"
   ]
  },
  {
   "cell_type": "markdown",
   "id": "ca0a5ff9-dd15-4869-8e72-db3055b65a29",
   "metadata": {},
   "source": [
    "Some of the commonly used libraries used by Data Scientists include:\n",
    "    \n",
    "    1. Numpy\n",
    "    2. Pandas\n",
    "    3. Matplotlib "
   ]
  },
  {
   "cell_type": "markdown",
   "id": "272af9ca-af63-43fa-ae0d-97ca9e428efa",
   "metadata": {},
   "source": [
    "| Data Science Tools       |\n",
    "|--------------------------|\n",
    "| Jupyter Notebook         |\n",
    "| RStudio                  |\n",
    "| VS Code with Python      |\n"
   ]
  },
  {
   "cell_type": "markdown",
   "id": "d4f78762-7cad-4386-bc74-37face6e09be",
   "metadata": {},
   "source": [
    "### Below are a few examples of evaluating arithmetic expressions in Python.\n",
    "\n",
    "1. **Addition:**\n",
    "   2 + 3\n",
    "\n",
    "2. **Substraction:**\n",
    "    3 - 3\n",
    "    \n",
    "3. **Multiplication:**\n",
    "    8 * 7\n",
    "    \n",
    "4. **Division:**\n",
    "    10 / 2\n",
    "    \n",
    "5. **Exponentiation:**\n",
    "    3 ** 4"
   ]
  },
  {
   "cell_type": "code",
   "execution_count": 1,
   "id": "c2b04370-e257-4ccd-a27f-3e9a79c8ce8a",
   "metadata": {
    "tags": []
   },
   "outputs": [
    {
     "name": "stdout",
     "output_type": "stream",
     "text": [
      "17\n"
     ]
    }
   ],
   "source": [
    "# This is a simple arithmetic expression to multiply then add integers.\n",
    "result = (3 * 4) + 5\n",
    "\n",
    "# Print the result\n",
    "print(result)\n"
   ]
  },
  {
   "cell_type": "code",
   "execution_count": 7,
   "id": "a9ef31fb-c559-435a-911d-386aae122616",
   "metadata": {
    "tags": []
   },
   "outputs": [
    {
     "name": "stdout",
     "output_type": "stream",
     "text": [
      "200 minutes is equal to 3.3333333333333335 hours\n"
     ]
    }
   ],
   "source": [
    "# This will convert 200 minutes to hours by dividing by 60.\n",
    "hours = (200 / 60)\n",
    "\n",
    "# Print the result\n",
    "print(\"200 minutes is equal to\", hours, \"hours\")"
   ]
  },
  {
   "cell_type": "markdown",
   "id": "619a094b-2e59-4e30-b50d-839d1554adbc",
   "metadata": {},
   "source": [
    "## Author\n",
    "Arines. A"
   ]
  },
  {
   "cell_type": "code",
   "execution_count": null,
   "id": "643af966-a2b4-461d-9dd6-b60b40de17db",
   "metadata": {},
   "outputs": [],
   "source": []
  }
 ],
 "metadata": {
  "kernelspec": {
   "display_name": "Python",
   "language": "python",
   "name": "conda-env-python-py"
  },
  "language_info": {
   "codemirror_mode": {
    "name": "ipython",
    "version": 3
   },
   "file_extension": ".py",
   "mimetype": "text/x-python",
   "name": "python",
   "nbconvert_exporter": "python",
   "pygments_lexer": "ipython3",
   "version": "3.7.12"
  }
 },
 "nbformat": 4,
 "nbformat_minor": 5
}
